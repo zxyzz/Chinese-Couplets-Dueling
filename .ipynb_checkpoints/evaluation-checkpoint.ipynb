{
 "cells": [
  {
   "cell_type": "markdown",
   "metadata": {},
   "source": [
    "# 1. Import libraries"
   ]
  },
  {
   "cell_type": "code",
   "execution_count": 1,
   "metadata": {},
   "outputs": [],
   "source": [
    "#!/usr/bin/python\n",
    "# -*- coding: utf-8 -*-\n",
    "\n",
    "import torch\n",
    "import torch.nn as nn\n",
    "from torch import optim\n",
    "import torch.nn.functional as F\n",
    "import numpy as np\n",
    "from pypinyin import pinyin, lazy_pinyin, Style\n",
    "import matplotlib\n",
    "import matplotlib.pyplot as plt\n",
    "from nltk.translate.bleu_score import SmoothingFunction\n",
    "from nltk.translate import bleu\n",
    "from copy import deepcopy\n",
    "\n",
    "from utils import *\n",
    "# Define a device\n",
    "device = torch.device(\"cuda\" if torch.cuda.is_available() else \"cpu\")"
   ]
  },
  {
   "cell_type": "markdown",
   "metadata": {},
   "source": [
    "# 2. Define Helper Functions"
   ]
  },
  {
   "cell_type": "code",
   "execution_count": 45,
   "metadata": {},
   "outputs": [],
   "source": [
    "def prepare_data(in_path,out_path,with_all_couplets=True):\n",
    "    batch_size = 1 \n",
    "    nb_couplets = 1024\n",
    "    \n",
    "    print(\"### data preparing ### \")\n",
    "    print(\"Batch size is: \",batch_size)\n",
    "    print(\"Use all couplets to train: \",with_all_couplets)\n",
    "    if (with_all_couplets==False):\n",
    "        print(\"\\tTherefore nb_couplets to train is: \",nb_couplets)\n",
    "\n",
    "    print(\"### data loading ### \")\n",
    "    vocab_path = \"./vocab.txt\"\n",
    "    data_in, data_out, max_length = load_data(in_path,out_path,nb_couplets,with_all_couplets)\n",
    "    vocab = load_vocab(vocab_path)\n",
    "    vocab_size = len(vocab)\n",
    "    print(\"Vocab length is \", vocab_size)\n",
    "    return data_in,data_out,vocab,max_length\n",
    "\n",
    "def create_dicts(data_in,data_out,vocab,max_length):\n",
    "\n",
    "    # create char2int and int2char_dict\n",
    "    char2int_dict, int2char_dict = create_char2int_and_int2char_dict(vocab)\n",
    "    \n",
    "    char2tone_dict = create_char2tone_dict(vocab)\n",
    "    \n",
    "    int2tone_dict = dict()\n",
    "    for i in range(len(vocab)):\n",
    "        t = char2tone_dict.get(vocab[i])\n",
    "        int2tone_dict[i] = t\n",
    "\n",
    "    return char2int_dict, int2char_dict, char2tone_dict, int2tone_dict\n",
    "        \n",
    "        \n",
    "def create_tone_mask(vocab, char2tone_dict):\n",
    "    tone_onlyP_2 = np.ones(len(vocab))\n",
    "    tone_onlyZ_2 = np.ones(len(vocab))\n",
    "    tone_onlyZ_2[:4] = 92233720368547758  # remove PAD, SOS,EOS and UNK\n",
    "    tone_onlyZ_2[:4] = 92233720368547758\n",
    "    for i in range(4,len(vocab)):\n",
    "        # i  <=> char_id   \n",
    "        tone = char2tone_dict.get(vocab[i])\n",
    "        if (tone.isalpha()):\n",
    "            if (len(tone) != 2):\n",
    "                if(tone == 'P'):\n",
    "                    tone_onlyP_2[i] = 92233720368547758\n",
    "                else:\n",
    "                    tone_onlyZ_2[i] = 92233720368547758\n",
    "    return tone_onlyP_2, tone_onlyZ_2\n",
    "\n",
    "    \n",
    "# tokenize: couplet to int \n",
    "def tokenize_(data, char2int_dict, max_length):  \n",
    "    v=[]\n",
    "    for i in range(0, len(data)):\n",
    "        l = []\n",
    "        for j in range (0, len(data[i])):\n",
    "            if ( char2int_dict.get(data[i][j])  is None ):\n",
    "                l.append(   char2int_dict.get('UNK')  )\n",
    "            else:\n",
    "                l.append(   char2int_dict.get(data[i][j])  )\n",
    "        if (len(data[i]) < max_length):   # padding 0(pad) at the end\n",
    "            l = (l + [0] * max_length)[:max_length]\n",
    "        v.append(l)\n",
    "    return v\n",
    "\n",
    "\n",
    "def tokenize_dec_in_(data, char2int_dict, max_length): \n",
    "    v=[]\n",
    "    for i in range(0, len(data)):\n",
    "        l = [char2int_dict.get('sos')]\n",
    "\n",
    "        for j in range (0, len(data[i])):\n",
    "            if ( char2int_dict.get(data[i][j])  is None ):\n",
    "                l.append(   char2int_dict.get('UNK')  )\n",
    "            else:\n",
    "                l.append(   char2int_dict.get(data[i][j])  )\n",
    "        if (len(data[i]) < max_length):   # padding 0(pad) at the end\n",
    "            l = (l + [0] * max_length)[:max_length]\n",
    "        v.append(l)\n",
    "    return v\n",
    "\n",
    "\n",
    "def tokenize_dec_out_(data, char2int_dict, max_length): \n",
    "    v=[]\n",
    "    for i in range(0, len(data)):\n",
    "        l = []\n",
    "        for j in range (0, len(data[i])):\n",
    "            if ( char2int_dict.get(data[i][j])  is None ):\n",
    "                l.append(   char2int_dict.get('UNK')  )\n",
    "            else:\n",
    "                l.append(   char2int_dict.get(data[i][j])  )\n",
    "\n",
    "        l.append(char2int_dict.get('eos'))\n",
    "        if (len(data[i]) < max_length):   # padding 0(pad) at the end\n",
    "            l = (l + [0] * max_length)[:max_length]\n",
    "        v.append(l)\n",
    "    return v\n",
    "\n",
    "def tokenization(data_in,data_out,char2int_dict,max_length):\n",
    "    # Line One from character to int\n",
    "    Enc_in =  tokenize_(data_in,char2int_dict,max_length)\n",
    "    # Line two from character to int, with SOS and EOS\n",
    "    token_out =tokenize_(data_out,char2int_dict,max_length)\n",
    "    Dec_in = tokenize_dec_in_(data_out,char2int_dict,max_length)\n",
    "    Dec_out = tokenize_dec_out_(data_out,char2int_dict,max_length)  \n",
    "    \n",
    "    return  Enc_in,Dec_in,Dec_out\n",
    "\n",
    "def prepare_batches(Enc_in,Dec_out,Dec_in,batch_size=1):\n",
    "    in_ = []\n",
    "    for i in range(0,int(len(Enc_in)/batch_size)):\n",
    "        in_.append( torch.Tensor(Enc_in[batch_size*i:batch_size*(i+1)]).to(torch.int64) )\n",
    "    out_ = []\n",
    "    for i in range(0,int(len(Dec_out)/batch_size)):\n",
    "        out_.append( torch.Tensor(Dec_out[batch_size*i:batch_size*(i+1)]).to(torch.int64) )\n",
    "    dec_in_ =[]\n",
    "    for i in range(0,int(len(Dec_in)/batch_size)):\n",
    "        dec_in_.append( torch.Tensor(Dec_in[batch_size*i:batch_size*(i+1)]).to(torch.int64) )\n",
    "    batch_in_out_pairs =[]   # may ignore some last couplets\n",
    "    for i in range(0, len(in_)):\n",
    "        batch_in_out_pairs.append((in_[i],dec_in_[i], out_[i]))\n",
    "    print(\"Number of couplet batches :\",len(batch_in_out_pairs))\n",
    "    \n",
    "    return batch_in_out_pairs\n",
    "\n",
    "\n",
    "class Node:\n",
    "    def __init__(self,indices,acc,hid,attn):\n",
    "        self.indices = indices\n",
    "        self.acc = acc\n",
    "        self.hid = hid\n",
    "        self.attn = attn\n",
    "\n",
    "        \n",
    "    def add_vi(self,val_,idx_,hid,attn):\n",
    "        self.indices.append(idx_)\n",
    "        self.acc = val_\n",
    "        self.hid.append(hid)\n",
    "        self.attn.append(attn)\n",
    "    \n",
    "    def printf(self):\n",
    "        print(\"=> In Node:\")\n",
    "        print(\"=> Acc is: \",float(self.acc))\n",
    "        print(\"=> Indices are:\", [i for i in self.indices])\n",
    "\n",
    "def detokenize_All(couplets, int2char_dict):\n",
    "    o = ''\n",
    "    for i in range(0, len(couplets)):\n",
    "        for j in range(len(couplets[i])):\n",
    "            if (couplets[i][j] >= 3):    # ignore pad,sos,eos\n",
    "                o = o + int2char_dict.get(couplets[i][j].item()) \n",
    "        #o = o +\"\\n\"\n",
    "    return o\n",
    "\n",
    "def detokenize_int(one_couplet, int2char_dict):\n",
    "    o = ''\n",
    "    for i in range(0, len(one_couplet)):\n",
    "        if(int2char_dict.get(one_couplet[i]) is not None):\n",
    "            o = o + int2char_dict.get(one_couplet[i])   # one_couplet should be like [24,576,134]\n",
    "        else:\n",
    "            print(\"what\")\n",
    "    return o\n",
    "\n",
    "\n",
    "# create a dictionary of repeted words\n",
    "def dict_repet_idx(one_tensor,length):\n",
    "    records_array = np.array(one_tensor)[:length]\n",
    "    vals, inverse, count = np.unique(records_array, return_inverse=True,return_counts=True)\n",
    "    idx_vals_repeated = np.where(count > 1)[0]\n",
    "    vals_repeated = vals[idx_vals_repeated]\n",
    "\n",
    "    rows, cols = np.where(inverse == idx_vals_repeated[:, np.newaxis])\n",
    "    _, inverse_rows = np.unique(rows, return_index=True)\n",
    "    res = np.split(cols, inverse_rows[1:])\n",
    "    \n",
    "    d = dict()\n",
    "    for i in range(len(res)):\n",
    "        for l in range(1,len(res[i])):\n",
    "            val = res[i][0]\n",
    "            d[ res[i][l] ]  = val\n",
    "    \n",
    "    return d\n",
    "\n",
    "\n",
    "# If input couplet consists of some same characters\n",
    "# Then this method forces the output couplet to have same character at corresponding position\n",
    "def detokenize_int_repet(input_tensor, one_couplet, int2char_dict):\n",
    "    o = ''\n",
    "    longueur = np.where(np.array(input_tensor[0]) == 0)[0][0]\n",
    "    d = dict_repet_idx(input_tensor[0],longueur)\n",
    "    #print(\"Input length is \",longueur)\n",
    "    \n",
    "    for i in range(0, len(one_couplet)):\n",
    "        idx = d.get(i)\n",
    "        if ( idx is not None ):\n",
    "            # use the first appreared word\n",
    "            o = o + int2char_dict.get(one_couplet[idx])\n",
    "        else:\n",
    "            o = o + int2char_dict.get(one_couplet[i])\n",
    "    return o\n",
    "\n",
    "\n",
    "# Evaluate one couplet\n",
    "def evaluate(char2tone_dict,encoder, decoder,input_tensor,forced_tone=True,forced_word=True, beam_width=1, max_length=33):\n",
    "    \n",
    "    batch_size = input_tensor.size(0)\n",
    "    target_length = input_tensor.size(1)\n",
    "    ini_mask = np.ones(len(vocab))\n",
    "    ini_mask[:4] = 92233720368547758  # masking PAD, SOS, EOS and UNK\n",
    "    ini_mask[input_tensor] = 92233720368547758 # masking characters in inputs\n",
    "    ini_mask[4] = 1\n",
    "    \n",
    "    encoder.eval()\n",
    "    decoder.eval()\n",
    "    \n",
    "    longueur = [np.where(np.array(input_tensor[0]) == 0)[0][0]]\n",
    "    with torch.no_grad():\n",
    "        encoder_hidden = torch.zeros(2, batch_size, hidden_size)\n",
    "        encoder_outputs, encoder_hidden = encoder(input_tensor, encoder_hidden,longueur)\n",
    "        decoder_input = torch.tensor([1])\n",
    "        decoder_hidden = encoder_hidden\n",
    "        decoder_output, decoder_hidden, decoder_attention = decoder(decoder_input.to(device), decoder_hidden.to(device), encoder_outputs.to(device))\n",
    "        \n",
    "        decoder_output = decoder_output*torch.Tensor(ini_mask)\n",
    "        \n",
    "        if(forced_tone):\n",
    "            tone = int2tone_dict.get(int(input_tensor[0][0]))\n",
    "            if( tone is not None and tone.isalpha() and len(tone) != 2 ):\n",
    "\n",
    "                if (tone == 'P'):\n",
    "                    decoder_output = decoder_output*torch.Tensor(tone_onlyP_2)\n",
    "                else:\n",
    "                    decoder_output = decoder_output*torch.Tensor(tone_onlyZ_2)        \n",
    "        \n",
    "        \n",
    "        topv, topi = decoder_output.squeeze(1).topk(beam_width)\n",
    "        \n",
    "        decoder_input = topi.detach().t() # t() for convenience dec_in shape\n",
    "        \n",
    "        list_nodes = []\n",
    "        init_node = Node( [], 0,[],[])  # indices,acc,hid,attn\n",
    "        for l in range(0,beam_width):\n",
    "            node = deepcopy(init_node)\n",
    "            node.add_vi(topv[0][l],int(topi[0][l]),decoder_hidden,decoder_attention)\n",
    "            list_nodes.append(node)  \n",
    "\n",
    "        for j in range (1,longueur[0]):\n",
    "            temp_val = []\n",
    "            temp_idx = []\n",
    "            temp_hid = []\n",
    "            temp_attn = []\n",
    "            for b in range(beam_width):\n",
    "                decoder_output, decoder_hidden, decoder_attention = decoder(torch.tensor([ list_nodes[b].indices[-1] ]), list_nodes[b].hid[-1], encoder_outputs)\n",
    "                \n",
    "                decoder_output = decoder_output*torch.Tensor(ini_mask)\n",
    "                \n",
    "                if(forced_tone):\n",
    "                    tone = int2tone_dict.get(int(input_tensor[0][j]))\n",
    "                    if( tone is not None and tone.isalpha() and len(tone) != 2 ):\n",
    "                        \n",
    "                        if (tone == 'P'):\n",
    "                            decoder_output = decoder_output*torch.Tensor(tone_onlyP_2)  \n",
    "                        else:\n",
    "                            decoder_output = decoder_output*torch.Tensor(tone_onlyZ_2)   \n",
    "                            \n",
    "                \n",
    "                topv, topi = decoder_output.squeeze(1).topk(beam_width)\n",
    "                \n",
    "                temp_val.append(topv) \n",
    "                temp_idx.append(topi)\n",
    "                temp_hid.append(decoder_hidden)\n",
    "                temp_attn.append(decoder_attention)\n",
    "                \n",
    "            for bb in range(beam_width):\n",
    "                temp_val[bb] += list_nodes[bb].acc \n",
    "            \n",
    "            concat = temp_val[0]\n",
    "            concat_idx = temp_idx[0]\n",
    "            concat_hid = []\n",
    "            concat_hid.append(temp_hid[0])\n",
    "            concat_attn = []\n",
    "            concat_attn.append(temp_attn[0])\n",
    "            for bbb in range(1,beam_width):\n",
    "                concat = torch.cat((concat,temp_val[bbb]),dim=1)\n",
    "                concat_idx = torch.cat((concat_idx,temp_idx[bbb]),dim=1)\n",
    "                concat_hid.append(temp_hid[bbb])\n",
    "                concat_attn.append(temp_attn[bbb])\n",
    "            concat = concat.squeeze()\n",
    "            concat_idx = concat_idx.squeeze()\n",
    "            if(beam_width == 1):\n",
    "                concat = concat.unsqueeze(0)\n",
    "                concat_idx = concat_idx.unsqueeze(0)\n",
    "\n",
    "            tv, ti = concat.topk(beam_width)\n",
    "\n",
    "            new_list_nodes = []\n",
    "            for bbbb in range(beam_width):\n",
    "                quel_node =  int(int(ti[bbbb]) / beam_width)\n",
    "                corr_nodes = list_nodes[quel_node] \n",
    "\n",
    "                new = deepcopy(corr_nodes)\n",
    "                new.add_vi(concat[ti[bbbb]], int(concat_idx[ti[bbbb]]),concat_hid[quel_node],concat_attn[quel_node] )\n",
    "\n",
    "                new_list_nodes.append(deepcopy(new))\n",
    "\n",
    "            new_dec_in = []\n",
    "            for e in range(len(new_list_nodes)):\n",
    "                nn = new_list_nodes[e]\n",
    "                new_dec_in.append(nn.indices[-1])\n",
    "            new_dec_in = torch.tensor(new_dec_in).unsqueeze(1)\n",
    "            \n",
    "            list_nodes = deepcopy(new_list_nodes)\n",
    "            decoder_input = new_dec_in\n",
    "\n",
    "        decoded_words=[]\n",
    "        for kk in range(len(list_nodes)):\n",
    "            nnn = list_nodes[kk]\n",
    "            d = nnn.indices\n",
    "            \n",
    "            if (forced_word):\n",
    "                decoded_words.append( detokenize_int_repet(input_tensor, d, int2char_dict) )\n",
    "            else:\n",
    "                decoded_words.append( detokenize_int(d, int2char_dict) )\n",
    "    return decoded_words, list_nodes\n",
    "            \n",
    "    \n",
    "# evaluate randomly n couplets\n",
    "def evaluateRandomly(char2tone_dict,encoder, decoder,forced_tone=True,forced_word=False,beam_width=1, n=1):\n",
    "    # save locally couplet outputs\n",
    "    f = open(\"./couplet_outputs.txt\",\"a\")\n",
    "    for i in range(n):\n",
    "        \n",
    "        i = np.random.randint(len(Enc_in))\n",
    "        \n",
    "        j = np.random.randint(len(Enc_in))\n",
    "        pair = torch.Tensor([Enc_in[i] ]).to(torch.int64)\n",
    "        d_out =torch.Tensor([Dec_in[i] ]).to(torch.int64)\n",
    "        output_words, list_nodes = evaluate(char2tone_dict,encoder, decoder, pair,forced_tone,forced_word,beam_width)\n",
    "        output_words_line = '\\n'.join(output_words)\n",
    "        f.write(str(i))\n",
    "        f.write(\"\\n\")\n",
    "        print(\"in: \")\n",
    "        inn = detokenize_All(pair, int2char_dict)\n",
    "        print(inn)\n",
    "        f.write(inn)\n",
    "        f.write(\"\\n\")\n",
    "        print('model answer: ')\n",
    "        print(output_words_line)\n",
    "        f.write(output_words_line)\n",
    "        f.write(\"\\n\")\n",
    "        print(\"desired answer: \")\n",
    "        outt = detokenize_All(d_out, int2char_dict)\n",
    "        print(outt)\n",
    "        f.write(outt)\n",
    "        f.write(\"\\n\")\n",
    "        print(\"\\n\")\n",
    "        \n",
    "        \n",
    "        # Plot the attention and save it locally\n",
    "        attn = []\n",
    "        for w in range(len(list_nodes)):\n",
    "            #print(\"w is \",w)\n",
    "            a = list_nodes[w].attn\n",
    "            #print(\"len attn\",len(a))\n",
    "            attn_tmp = torch.tensor(())\n",
    "            for m in range(len(a)):\n",
    "                b = torch.tensor(a[m][0])\n",
    "                #plt.subplots(figsize=(5, 9))\n",
    "                #plt.imshow(b,cmap='hot')\n",
    "                #plt.show()\n",
    "                attn_tmp = torch.cat((attn_tmp, b),0) \n",
    "                \n",
    "            #showAttention(pair, output_words[k], list_nodes[k].attn)\n",
    "            #print(\"tmp shape\",attn_tmp.shape)  # for j in longueur or max_length\n",
    "            \n",
    "            plt.subplots(figsize=(4, 6))\n",
    "            #plt.imshow(attn_tmp[:8,:8],cmap='hot')\n",
    "            plt.imshow(attn_tmp,cmap='hot')\n",
    "            \n",
    "            plt.savefig('couplet_attn_'+str(i)+'.png')\n",
    "\n",
    "            plt.colorbar()\n",
    "            plt.show()\n",
    "            attn.append(attn_tmp)\n",
    "    \n",
    "# Compute bleu score\n",
    "def compute_bleu(char2tone_dict,encoder, decoder,forced_tone=False,forced_word=False,beam_width=1, n=1):\n",
    "    total_bleu = 0\n",
    "    count=0\n",
    "\n",
    "    for i in range(n):\n",
    "        pair = torch.Tensor([Enc_in[i] ]).to(torch.int64)\n",
    "        d_out =torch.Tensor([Dec_in[i] ]).to(torch.int64)\n",
    "        \n",
    "        output_words, list_nodes = evaluate(char2tone_dict,encoder, decoder, pair,forced_tone,forced_word,beam_width)\n",
    "        output_words_line = '\\n'.join(output_words)\n",
    "        inn = detokenize_All(pair, int2char_dict)\n",
    "        outt = detokenize_All(d_out, int2char_dict)\n",
    "       \n",
    "        for k in range(len(output_words)):\n",
    "            smoothie = SmoothingFunction().method4\n",
    "            if( len(outt) == 1 and outt==output_words[k]):  # otherwise division 0\n",
    "                total_bleu += 1.0\n",
    "                count+=1\n",
    "            else:\n",
    "                b = bleu([outt], output_words[k], smoothing_function=smoothie)\n",
    "                total_bleu += b\n",
    "                if(b >= 0.2):\n",
    "                    count+=1\n",
    "                    \n",
    "    print(\"## FIN ##\")\n",
    "    print(\"BLEU :\",total_bleu/ (n*beam_width)  )\n",
    "    print(\"#count >0.2 :\",count/beam_width)        \n",
    "        \n",
    "# need data_in, data_out, Enc_in Dec_out\n",
    "def for_humain_eval(i,n,pt,char2tone_dict,indices,om,forced_tone=True,forced_word=False,beam_width=1):\n",
    "    encoder = torch.load(\"./models/II_enc_epoch_\"+pt+\".pt\",map_location='cpu')\n",
    "    attn_decoder = torch.load(\"./models/II_dec_epoch_\"+pt+\".pt\",map_location='cpu')\n",
    "    encoder.eval()\n",
    "    attn_decoder.eval()\n",
    "    print(\"encoder.hidden_size:\",encoder.hidden_size)\n",
    "    print(\"attn_decoder.hidden_size:\",attn_decoder.hidden_size)\n",
    "\n",
    "    f = open(\"./random_\"+str(i)+\"_\"+pt+\"_\"+str(forced_tone)+\"_\"+str(forced_word)+\"_\"+str(beam_width)+\".txt\",\"w\")\n",
    "    f_oomm = open(\"./random_oomm_\"+str(i)+\"_\"+pt+\"_\"+str(forced_tone)+\"_\"+str(forced_word)+\"_\"+str(beam_width)+\".txt\",\"w\")\n",
    "    f_a = open(\"./random_notes_\"+str(i)+\"_\"+pt+\"_\"+str(forced_tone)+\"_\"+str(forced_word)+\"_\"+str(beam_width)+\".txt\",\"w\")\n",
    "    \n",
    "    \n",
    "    f_a.write(\"### oo => 0, mm => 1 ###\")\n",
    "    f_a.write(\"\\n\")\n",
    "    \n",
    "    for idx in range(n):\n",
    "        \n",
    "        f_a.write(\"-Question-\"+str(idx+1)+\"\\n\")\n",
    "        f_a.write(\"Indices:\"+str(indices[idx])+\"\\n\")\n",
    "        f_a.write(\"Truth:\"+str(om[idx])+\"\\n\")\n",
    "        f_a.write(\"\\n\")\n",
    "    \n",
    "        # generate model answer\n",
    "        i = indices[idx]\n",
    "        pair = torch.Tensor(Enc_in[i]).to(torch.int64).unsqueeze(0)\n",
    "        d_out = torch.Tensor(Dec_in[i]).to(torch.int64).unsqueeze(0)\n",
    "        output_words, _ = evaluate(char2tone_dict,encoder, attn_decoder, pair,forced_tone,forced_word,beam_width)\n",
    "        \n",
    "        # without oomm \n",
    "        f.write(\"-Question-\"+str(idx+1)+\"\\n\")\n",
    "        f.write(\"Indices:\"+str(i)+\"\\n\")\n",
    "        f.write(data_in[i]+\" ii\\n\")\n",
    "        if(om[idx] == 0):\n",
    "            f.write(data_out[i]+\"\\n\")\n",
    "            f.write(output_words[0]+\"\\n\")\n",
    "        else:\n",
    "            f.write(output_words[0]+\"\\n\")\n",
    "            f.write(data_out[i]+\"\\n\")\n",
    "        f.write('\\n')\n",
    "        \n",
    "        # with oomm    \n",
    "        f_oomm.write(\"-Question-\"+str(idx+1)+\"\\n\")\n",
    "        f_oomm.write(\"Indices:\"+str(i)+\"\\n\")\n",
    "        f_oomm.write(data_in[i]+\" ii\\n\")   \n",
    "        if(om[idx] == 0): \n",
    "            f_oomm.write(data_out[i]+\" oo\\n\")\n",
    "            f_oomm.write(output_words[0]+\" mm\\n\")\n",
    "        else:\n",
    "            f_oomm.write(output_words[0]+\" mm\\n\")\n",
    "            f_oomm.write(data_out[i]+\" oo\\n\")            \n",
    "        f_oomm.write('\\n')\n",
    "        \n",
    "    f_a.close\n",
    "    f.close\n",
    "    f_oomm.close"
   ]
  },
  {
   "cell_type": "markdown",
   "metadata": {},
   "source": [
    "# Start Evaluation\n",
    "Prepare couplets to be evaluated latter."
   ]
  },
  {
   "cell_type": "code",
   "execution_count": 30,
   "metadata": {},
   "outputs": [],
   "source": [
    "in_path = \"./test_in.txt\"\n",
    "out_path = \"./test_out.txt\""
   ]
  },
  {
   "cell_type": "markdown",
   "metadata": {},
   "source": [
    "Load couplets data and create necessary tools for the evaluation."
   ]
  },
  {
   "cell_type": "code",
   "execution_count": 31,
   "metadata": {},
   "outputs": [
    {
     "name": "stdout",
     "output_type": "stream",
     "text": [
      "### data preparing ### \n",
      "Batch size is:  1\n",
      "Use all couplets to train:  True\n",
      "### data loading ### \n",
      "min line length is  1\n",
      "max line length is  32\n",
      "Loaded input couplets length is  3931\n",
      "Loaded output couplets length is  3931\n",
      "Vocab length is  9131\n",
      "Number of couplet batches : 3931\n"
     ]
    }
   ],
   "source": [
    "hidden_size = 256\n",
    "data_in,data_out,vocab,max_length = prepare_data(in_path,out_path,with_all_couplets=True)\n",
    "char2int_dict, int2char_dict, char2tone_dict, int2tone_dict = create_dicts(data_in,data_out,vocab,max_length)\n",
    "tone_onlyP_2, tone_onlyZ_2 = create_tone_mask(vocab, char2tone_dict)\n",
    "Enc_in,Dec_in,Dec_out = tokenization(data_in,data_out,char2int_dict,max_length)\n",
    "batch_in_out_pairs_eval = prepare_batches(Enc_in,Dec_out,Dec_in,batch_size=1)"
   ]
  },
  {
   "cell_type": "markdown",
   "metadata": {},
   "source": [
    "Load Encoder and Decoder from `models` folder."
   ]
  },
  {
   "cell_type": "code",
   "execution_count": 32,
   "metadata": {},
   "outputs": [
    {
     "name": "stdout",
     "output_type": "stream",
     "text": [
      "\n"
     ]
    }
   ],
   "source": [
    "encoder = torch.load(\"./models/II_enc_epoch_203.pt\",map_location='cpu')\n",
    "attn_decoder = torch.load(\"./models/II_dec_epoch_203.pt\",map_location='cpu')\n",
    "encoder.eval()\n",
    "attn_decoder.eval()\n",
    "print()"
   ]
  },
  {
   "cell_type": "markdown",
   "metadata": {},
   "source": [
    "Compute bleu score for models."
   ]
  },
  {
   "cell_type": "code",
   "execution_count": 30,
   "metadata": {},
   "outputs": [
    {
     "name": "stdout",
     "output_type": "stream",
     "text": [
      "## FIN ##\n",
      "BLEU : 0.13963461478725833\n",
      "#count >0.2 : 1178.0\n"
     ]
    }
   ],
   "source": [
    "# 203\n",
    "compute_bleu(char2tone_dict,encoder, attn_decoder,forced_tone=True,forced_word=True,beam_width=1,n=len(batch_in_out_pairs_eval))"
   ]
  },
  {
   "cell_type": "code",
   "execution_count": 31,
   "metadata": {},
   "outputs": [
    {
     "name": "stdout",
     "output_type": "stream",
     "text": [
      "## FIN ##\n",
      "BLEU : 0.1380228152769069\n",
      "#count >0.2 : 1151.3333333333333\n"
     ]
    }
   ],
   "source": [
    "# 203\n",
    "compute_bleu(char2tone_dict,encoder, attn_decoder,forced_tone=True,forced_word=True,beam_width=3,n=len(batch_in_out_pairs_eval))"
   ]
  },
  {
   "cell_type": "code",
   "execution_count": 32,
   "metadata": {},
   "outputs": [
    {
     "name": "stdout",
     "output_type": "stream",
     "text": [
      "## FIN ##\n",
      "BLEU : 0.13732333521721898\n",
      "#count >0.2 : 1146.6\n"
     ]
    }
   ],
   "source": [
    "# 203\n",
    "compute_bleu(char2tone_dict,encoder, attn_decoder,forced_tone=True,forced_word=True,beam_width=5,n=len(batch_in_out_pairs_eval))"
   ]
  },
  {
   "cell_type": "markdown",
   "metadata": {},
   "source": [
    "Evaluate randomly 10 couplets."
   ]
  },
  {
   "cell_type": "code",
   "execution_count": 50,
   "metadata": {
    "scrolled": false
   },
   "outputs": [
    {
     "name": "stdout",
     "output_type": "stream",
     "text": [
      "in: \n",
      "佐理贤才人注目\n",
      "model answer: \n",
      "登临胜境我题诗\n",
      "desired answer: \n",
      "国家治道世关心\n",
      "\n",
      "\n"
     ]
    },
    {
     "name": "stderr",
     "output_type": "stream",
     "text": [
      "/home/xzou/anaconda3/lib/python3.7/site-packages/ipykernel_launcher.py:367: UserWarning: To copy construct from a tensor, it is recommended to use sourceTensor.clone().detach() or sourceTensor.clone().detach().requires_grad_(True), rather than torch.tensor(sourceTensor).\n"
     ]
    },
    {
     "data": {
      "image/png": "[encoded data removed]",
      "text/plain": [
       "<Figure size 288x432 with 2 Axes>"
      ]
     },
     "metadata": {
      "needs_background": "light"
     },
     "output_type": "display_data"
    },
    {
     "name": "stdout",
     "output_type": "stream",
     "text": [
      "in: \n",
      "仁里胪欢，有脚阳春来大地\n",
      "model answer: \n",
      "濂溪共仰，无边福泽沛诸天\n",
      "desired answer: \n",
      "德林成荫，无声雨露润圆山\n",
      "\n",
      "\n"
     ]
    },
    {
     "data": {
      "image/png": "[encoded data removed]",
      "text/plain": [
       "<Figure size 288x432 with 2 Axes>"
      ]
     },
     "metadata": {
      "needs_background": "light"
     },
     "output_type": "display_data"
    },
    {
     "name": "stdout",
     "output_type": "stream",
     "text": [
      "in: \n",
      "春满神州，山欢水笑龙吟曲\n",
      "model answer: \n",
      "福临大地，地利人和马踏歌\n",
      "desired answer: \n",
      "民安乐土，燕舞莺歌蝶恋花\n",
      "\n",
      "\n"
     ]
    },
    {
     "data": {
      "image/png": "[encoded data removed]",
      "text/plain": [
       "<Figure size 288x432 with 2 Axes>"
      ]
     },
     "metadata": {
      "needs_background": "light"
     },
     "output_type": "display_data"
    },
    {
     "name": "stdout",
     "output_type": "stream",
     "text": [
      "in: \n",
      "狗衔四喜旺财运\n",
      "model answer: \n",
      "猪送三春迎福音\n",
      "desired answer: \n",
      "猪拱三星撞富门\n",
      "\n",
      "\n"
     ]
    },
    {
     "data": {
      "image/png": "[encoded data removed]",
      "text/plain": [
       "<Figure size 288x432 with 2 Axes>"
      ]
     },
     "metadata": {
      "needs_background": "light"
     },
     "output_type": "display_data"
    },
    {
     "name": "stdout",
     "output_type": "stream",
     "text": [
      "in: \n",
      "竹影摇明月\n",
      "model answer: \n",
      "荷香入翠微\n",
      "desired answer: \n",
      "柳枝舞劲风\n",
      "\n",
      "\n"
     ]
    },
    {
     "data": {
      "image/png": "[encoded data removed]",
      "text/plain": [
       "<Figure size 288x432 with 2 Axes>"
      ]
     },
     "metadata": {
      "needs_background": "light"
     },
     "output_type": "display_data"
    },
    {
     "name": "stdout",
     "output_type": "stream",
     "text": [
      "in: \n",
      "钟祥毓秀，家家护境如身，生态境长洁且美\n",
      "model answer: \n",
      "古朴迎新，岁岁更新添彩，中华新富富而强\n",
      "desired answer: \n",
      "播爱扬慈，处处与人为友，道德人自寿而康\n",
      "\n",
      "\n"
     ]
    },
    {
     "data": {
      "image/png": "[encoded data removed]",
      "text/plain": [
       "<Figure size 288x432 with 2 Axes>"
      ]
     },
     "metadata": {
      "needs_background": "light"
     },
     "output_type": "display_data"
    },
    {
     "name": "stdout",
     "output_type": "stream",
     "text": [
      "in: \n",
      "御书万卷斯堂富\n",
      "model answer: \n",
      "文字千秋大业兴\n",
      "desired answer: \n",
      "师道千秋历世尊\n",
      "\n",
      "\n"
     ]
    },
    {
     "data": {
      "image/png": "[encoded data removed]",
      "text/plain": [
       "<Figure size 288x432 with 2 Axes>"
      ]
     },
     "metadata": {
      "needs_background": "light"
     },
     "output_type": "display_data"
    },
    {
     "name": "stdout",
     "output_type": "stream",
     "text": [
      "in: \n",
      "吉星高照，人财两旺荣华宅\n",
      "model answer: \n",
      "福地长临，福寿双全福寿门\n",
      "desired answer: \n",
      "喜气常临，富贵双全幸福家\n",
      "\n",
      "\n"
     ]
    },
    {
     "data": {
      "image/png": "[encoded data removed]",
      "text/plain": [
       "<Figure size 288x432 with 2 Axes>"
      ]
     },
     "metadata": {
      "needs_background": "light"
     },
     "output_type": "display_data"
    },
    {
     "name": "stdout",
     "output_type": "stream",
     "text": [
      "in: \n",
      "好梦方圆，旗开得胜千秋业\n",
      "model answer: \n",
      "春风正雨，我醉不忘万里天\n",
      "desired answer: \n",
      "宏途正畅，马到成功万户春\n",
      "\n",
      "\n"
     ]
    },
    {
     "data": {
      "image/png": "[encoded data removed]",
      "text/plain": [
       "<Figure size 288x432 with 2 Axes>"
      ]
     },
     "metadata": {
      "needs_background": "light"
     },
     "output_type": "display_data"
    },
    {
     "name": "stdout",
     "output_type": "stream",
     "text": [
      "in: \n",
      "想做真人须直面\n",
      "model answer: \n",
      "要当假事要当头\n",
      "desired answer: \n",
      "莫愁前路少知音\n",
      "\n",
      "\n"
     ]
    },
    {
     "data": {
      "image/png": "[encoded data removed]",
      "text/plain": [
       "<Figure size 288x432 with 2 Axes>"
      ]
     },
     "metadata": {
      "needs_background": "light"
     },
     "output_type": "display_data"
    },
    {
     "name": "stdout",
     "output_type": "stream",
     "text": [
      "in: \n",
      "硬齿先亡，柔舌后已，千古几人明道理\n",
      "model answer: \n",
      "清风暂歇，良知非绝，一生一剑了心声\n",
      "desired answer: \n",
      "苍鹰断翅，麻雀回窝，不同各异度生涯\n",
      "\n",
      "\n"
     ]
    },
    {
     "data": {
      "image/png": "[encoded data removed]",
      "text/plain": [
       "<Figure size 288x432 with 2 Axes>"
      ]
     },
     "metadata": {
      "needs_background": "light"
     },
     "output_type": "display_data"
    },
    {
     "name": "stdout",
     "output_type": "stream",
     "text": [
      "in: \n",
      "世事无常，本难顾几升几落\n",
      "model answer: \n",
      "人生有幸，不可为一点一生\n",
      "desired answer: \n",
      "交情有限，莫在乎他近他疏\n",
      "\n",
      "\n"
     ]
    },
    {
     "data": {
      "image/png": "[encoded data removed]",
      "text/plain": [
       "<Figure size 288x432 with 2 Axes>"
      ]
     },
     "metadata": {
      "needs_background": "light"
     },
     "output_type": "display_data"
    },
    {
     "name": "stdout",
     "output_type": "stream",
     "text": [
      "in: \n",
      "几杵钟声惊鹤影\n",
      "model answer: \n",
      "一弯月色动蛙鸣\n",
      "desired answer: \n",
      "一江渔火闪星光\n",
      "\n",
      "\n"
     ]
    },
    {
     "data": {
      "image/png": "[encoded data removed]",
      "text/plain": [
       "<Figure size 288x432 with 2 Axes>"
      ]
     },
     "metadata": {
      "needs_background": "light"
     },
     "output_type": "display_data"
    },
    {
     "name": "stdout",
     "output_type": "stream",
     "text": [
      "in: \n",
      "杯满文章醉\n",
      "model answer: \n",
      "春回大地新\n",
      "desired answer: \n",
      "神来妙笔狂\n",
      "\n",
      "\n"
     ]
    },
    {
     "data": {
      "image/png": "[encoded data removed]",
      "text/plain": [
       "<Figure size 288x432 with 2 Axes>"
      ]
     },
     "metadata": {
      "needs_background": "light"
     },
     "output_type": "display_data"
    },
    {
     "name": "stdout",
     "output_type": "stream",
     "text": [
      "in: \n",
      "柳拟春联先蘸绿\n",
      "model answer: \n",
      "花当日夜每添香\n",
      "desired answer: \n",
      "花开晚会又描红\n",
      "\n",
      "\n"
     ]
    },
    {
     "data": {
      "image/png": "[encoded data removed]",
      "text/plain": [
       "<Figure size 288x432 with 2 Axes>"
      ]
     },
     "metadata": {
      "needs_background": "light"
     },
     "output_type": "display_data"
    },
    {
     "name": "stdout",
     "output_type": "stream",
     "text": [
      "in: \n",
      "名利身边事，难逃左右\n",
      "model answer: \n",
      "廉洁业上人，不愧天时\n",
      "desired answer: \n",
      "浮沉世上人，终堕尘埃\n",
      "\n",
      "\n"
     ]
    },
    {
     "data": {
      "image/png": "[encoded data removed]",
      "text/plain": [
       "<Figure size 288x432 with 2 Axes>"
      ]
     },
     "metadata": {
      "needs_background": "light"
     },
     "output_type": "display_data"
    },
    {
     "name": "stdout",
     "output_type": "stream",
     "text": [
      "in: \n",
      "弹曲挥毫书柳韵\n",
      "model answer: \n",
      "临屏把酒对花香\n",
      "desired answer: \n",
      "听歌奋笔画荷幽\n",
      "\n",
      "\n"
     ]
    },
    {
     "data": {
      "image/png": "[encoded data removed]",
      "text/plain": [
       "<Figure size 288x432 with 2 Axes>"
      ]
     },
     "metadata": {
      "needs_background": "light"
     },
     "output_type": "display_data"
    },
    {
     "name": "stdout",
     "output_type": "stream",
     "text": [
      "in: \n",
      "尼山泗水，义路礼门，道运千秋迎奥运\n",
      "model answer: \n",
      "孔圣崇文，雄才圣地，文明万象仰宗明\n",
      "desired answer: \n",
      "圣地仁天，欢歌笑语，祥云万里步青云\n",
      "\n",
      "\n"
     ]
    },
    {
     "data": {
      "image/png": "[encoded data removed]",
      "text/plain": [
       "<Figure size 288x432 with 2 Axes>"
      ]
     },
     "metadata": {
      "needs_background": "light"
     },
     "output_type": "display_data"
    },
    {
     "name": "stdout",
     "output_type": "stream",
     "text": [
      "in: \n",
      "投猫忌器招烦鼠\n",
      "model answer: \n",
      "射猎牛头射虎狼\n",
      "desired answer: \n",
      "对象弹琴惹怒牛\n",
      "\n",
      "\n"
     ]
    },
    {
     "data": {
      "image/png": "[encoded data removed]",
      "text/plain": [
       "<Figure size 288x432 with 2 Axes>"
      ]
     },
     "metadata": {
      "needs_background": "light"
     },
     "output_type": "display_data"
    },
    {
     "name": "stdout",
     "output_type": "stream",
     "text": [
      "in: \n",
      "我本清风客\n",
      "model answer: \n",
      "君为明月人\n",
      "desired answer: \n",
      "他系满月仙\n",
      "\n",
      "\n"
     ]
    },
    {
     "data": {
      "image/png": "[encoded data removed]",
      "text/plain": [
       "<Figure size 288x432 with 2 Axes>"
      ]
     },
     "metadata": {
      "needs_background": "light"
     },
     "output_type": "display_data"
    },
    {
     "name": "stdout",
     "output_type": "stream",
     "text": [
      "in: \n",
      "香风醉倒花边客\n",
      "model answer: \n",
      "细雨催开梦里人\n",
      "desired answer: \n",
      "倩影迷痴柳下翁\n",
      "\n",
      "\n"
     ]
    },
    {
     "data": {
      "image/png": "[encoded data removed]",
      "text/plain": [
       "<Figure size 288x432 with 2 Axes>"
      ]
     },
     "metadata": {
      "needs_background": "light"
     },
     "output_type": "display_data"
    },
    {
     "name": "stdout",
     "output_type": "stream",
     "text": [
      "in: \n",
      "风云逐水逝\n",
      "model answer: \n",
      "日月伴舟行\n",
      "desired answer: \n",
      "霸业作烟消\n",
      "\n",
      "\n"
     ]
    },
    {
     "data": {
      "image/png": "[encoded data removed]",
      "text/plain": [
       "<Figure size 288x432 with 2 Axes>"
      ]
     },
     "metadata": {
      "needs_background": "light"
     },
     "output_type": "display_data"
    },
    {
     "name": "stdout",
     "output_type": "stream",
     "text": [
      "in: \n",
      "仙山圣地埋灵骨\n",
      "model answer: \n",
      "天井人间祭祖宗\n",
      "desired answer: \n",
      "佛国莲台入梦乡\n",
      "\n",
      "\n"
     ]
    },
    {
     "data": {
      "image/png": "[encoded data removed]",
      "text/plain": [
       "<Figure size 288x432 with 2 Axes>"
      ]
     },
     "metadata": {
      "needs_background": "light"
     },
     "output_type": "display_data"
    },
    {
     "name": "stdout",
     "output_type": "stream",
     "text": [
      "in: \n",
      "佩霞飞舞，人人笑迎天赐福\n",
      "model answer: \n",
      "浏水绕梁，户户欢庆岁安康\n",
      "desired answer: \n",
      "琴鼓齐鸣，处处欢呼地开春\n",
      "\n",
      "\n"
     ]
    },
    {
     "data": {
      "image/png": "[encoded data removed]",
      "text/plain": [
       "<Figure size 288x432 with 2 Axes>"
      ]
     },
     "metadata": {
      "needs_background": "light"
     },
     "output_type": "display_data"
    },
    {
     "name": "stdout",
     "output_type": "stream",
     "text": [
      "in: \n",
      "山衔落照倚红盖\n",
      "model answer: \n",
      "水泻珠帘荡紫毫\n",
      "desired answer: \n",
      "尘静寒霜覆绿苔\n",
      "\n",
      "\n"
     ]
    },
    {
     "data": {
      "image/png": "[encoded data removed]",
      "text/plain": [
       "<Figure size 288x432 with 2 Axes>"
      ]
     },
     "metadata": {
      "needs_background": "light"
     },
     "output_type": "display_data"
    },
    {
     "name": "stdout",
     "output_type": "stream",
     "text": [
      "in: \n",
      "鼓大河风，嵩岳迎春先起势\n",
      "model answer: \n",
      "兴廉政策，中华筑梦正开篇\n",
      "desired answer: \n",
      "圆中国梦，愚公矢志再移山\n",
      "\n",
      "\n"
     ]
    },
    {
     "data": {
      "image/png": "[encoded data removed]",
      "text/plain": [
       "<Figure size 288x432 with 2 Axes>"
      ]
     },
     "metadata": {
      "needs_background": "light"
     },
     "output_type": "display_data"
    },
    {
     "name": "stdout",
     "output_type": "stream",
     "text": [
      "in: \n",
      "管乐有才原不忝\n",
      "model answer: \n",
      "胡风无力亦难偿\n",
      "desired answer: \n",
      "湘水无情吊岂知\n",
      "\n",
      "\n"
     ]
    },
    {
     "data": {
      "image/png": "[encoded data removed]",
      "text/plain": [
       "<Figure size 288x432 with 2 Axes>"
      ]
     },
     "metadata": {
      "needs_background": "light"
     },
     "output_type": "display_data"
    },
    {
     "name": "stdout",
     "output_type": "stream",
     "text": [
      "in: \n",
      "秋水伊人，独立寒秋，望穿秋水长天，欲驭落霞孤鹜飞天外\n",
      "model answer: \n",
      "春风倩影，相思故春，捎入春风陌野，相思流月高楼入野中\n",
      "desired answer: \n",
      "晓风雅士，对酌拂晓，醉尽晓风佳梦，更携啼鸟繁花入梦中\n",
      "\n",
      "\n"
     ]
    },
    {
     "data": {
      "image/png": "[encoded data removed]",
      "text/plain": [
       "<Figure size 288x432 with 2 Axes>"
      ]
     },
     "metadata": {
      "needs_background": "light"
     },
     "output_type": "display_data"
    },
    {
     "name": "stdout",
     "output_type": "stream",
     "text": [
      "in: \n",
      "桐城降罪，林海蒙冤，得患难之交，且共吟诗商国史\n",
      "model answer: \n",
      "联苑为魂，华侨献爱，为民生为伍，同为抗战抗倭兵\n",
      "desired answer: \n",
      "放雉惊魂，归鸿逐梦，酬清贫所愿，何妨卖字度人生\n",
      "\n",
      "\n"
     ]
    },
    {
     "data": {
      "image/png": "[encoded data removed]",
      "text/plain": [
       "<Figure size 288x432 with 2 Axes>"
      ]
     },
     "metadata": {
      "needs_background": "light"
     },
     "output_type": "display_data"
    },
    {
     "name": "stdout",
     "output_type": "stream",
     "text": [
      "in: \n",
      "南浦飞云，西山积翠，百里洪城多秀美\n",
      "model answer: \n",
      "北辰引凤，北斗导航，千秋大业更辉煌\n",
      "desired answer: \n",
      "东坑含宝，北港呈祥，千秋梅岭更神奇\n",
      "\n",
      "\n"
     ]
    },
    {
     "data": {
      "image/png": "[encoded data removed]",
      "text/plain": [
       "<Figure size 288x432 with 2 Axes>"
      ]
     },
     "metadata": {
      "needs_background": "light"
     },
     "output_type": "display_data"
    },
    {
     "name": "stdout",
     "output_type": "stream",
     "text": [
      "in: \n",
      "风流岂在色\n",
      "model answer: \n",
      "浪漫不胜情\n",
      "desired answer: \n",
      "日上便开天\n",
      "\n",
      "\n"
     ]
    },
    {
     "data": {
      "image/png": "[encoded data removed]",
      "text/plain": [
       "<Figure size 288x432 with 2 Axes>"
      ]
     },
     "metadata": {
      "needs_background": "light"
     },
     "output_type": "display_data"
    },
    {
     "name": "stdout",
     "output_type": "stream",
     "text": [
      "in: \n",
      "瀑卷一轴水墨\n",
      "model answer: \n",
      "风梳半壁江山\n",
      "desired answer: \n",
      "石分半壁珠帘\n",
      "\n",
      "\n"
     ]
    },
    {
     "data": {
      "image/png": "[encoded data removed]",
      "text/plain": [
       "<Figure size 288x432 with 2 Axes>"
      ]
     },
     "metadata": {
      "needs_background": "light"
     },
     "output_type": "display_data"
    },
    {
     "name": "stdout",
     "output_type": "stream",
     "text": [
      "in: \n",
      "游子吟乡愁，静夜思荷塘月色\n",
      "model answer: \n",
      "春风送暖意，红楼梦柳岸春风\n",
      "desired answer: \n",
      "商女恨薄幸，红楼梦蘅芷清芬\n",
      "\n",
      "\n"
     ]
    },
    {
     "data": {
      "image/png": "[encoded data removed]",
      "text/plain": [
       "<Figure size 288x432 with 2 Axes>"
      ]
     },
     "metadata": {
      "needs_background": "light"
     },
     "output_type": "display_data"
    },
    {
     "name": "stdout",
     "output_type": "stream",
     "text": [
      "in: \n",
      "新月如新月，志摩志摩天，诗似清风，徐徐生腕底\n",
      "model answer: \n",
      "春潮泛春潮，情系情系党，梦圆红日，艳艳丽心头\n",
      "desired answer: \n",
      "青年类青年，独秀独秀岭，文同长剑，阵阵破夜空\n",
      "\n",
      "\n"
     ]
    },
    {
     "data": {
      "image/png": "[encoded data removed]",
      "text/plain": [
       "<Figure size 288x432 with 2 Axes>"
      ]
     },
     "metadata": {
      "needs_background": "light"
     },
     "output_type": "display_data"
    },
    {
     "name": "stdout",
     "output_type": "stream",
     "text": [
      "in: \n",
      "喜点鼠标，抒八闽气韵，春网东南谋发展\n",
      "model answer: \n",
      "欣描龙马，绘四化宏图，宏图大业绘宏图\n",
      "desired answer: \n",
      "正逢龙举，凌九域云霄，风行西岸话寻常\n",
      "\n",
      "\n"
     ]
    },
    {
     "data": {
      "image/png": "[encoded data removed]",
      "text/plain": [
       "<Figure size 288x432 with 2 Axes>"
      ]
     },
     "metadata": {
      "needs_background": "light"
     },
     "output_type": "display_data"
    },
    {
     "name": "stdout",
     "output_type": "stream",
     "text": [
      "in: \n",
      "可珍土地忙中乐\n",
      "model answer: \n",
      "莫道人家苦里甜\n",
      "desired answer: \n",
      "有味诗书苦后甜\n",
      "\n",
      "\n"
     ]
    },
    {
     "data": {
      "image/png": "[encoded data removed]",
      "text/plain": [
       "<Figure size 288x432 with 2 Axes>"
      ]
     },
     "metadata": {
      "needs_background": "light"
     },
     "output_type": "display_data"
    },
    {
     "name": "stdout",
     "output_type": "stream",
     "text": [
      "in: \n",
      "汕汛远潮通四海\n",
      "model answer: \n",
      "联坛盛馔誉全球\n",
      "desired answer: \n",
      "头轮佳馔冠南州\n",
      "\n",
      "\n"
     ]
    },
    {
     "data": {
      "image/png": "[encoded data removed]",
      "text/plain": [
       "<Figure size 288x432 with 2 Axes>"
      ]
     },
     "metadata": {
      "needs_background": "light"
     },
     "output_type": "display_data"
    },
    {
     "name": "stdout",
     "output_type": "stream",
     "text": [
      "in: \n",
      "狂言信口雌黄易\n",
      "model answer: \n",
      "大义成功简册难\n",
      "desired answer: \n",
      "假话违心坦白难\n",
      "\n",
      "\n"
     ]
    },
    {
     "data": {
      "image/png": "[encoded data removed]",
      "text/plain": [
       "<Figure size 288x432 with 2 Axes>"
      ]
     },
     "metadata": {
      "needs_background": "light"
     },
     "output_type": "display_data"
    },
    {
     "name": "stdout",
     "output_type": "stream",
     "text": [
      "in: \n",
      "三洞纷呈，成大观方添气韵\n",
      "model answer: \n",
      "一城崛起，展新图画展风光\n",
      "desired answer: \n",
      "九流兼纳，汇沧海以壮波涛\n",
      "\n",
      "\n"
     ]
    },
    {
     "data": {
      "image/png": "[encoded data removed]",
      "text/plain": [
       "<Figure size 288x432 with 2 Axes>"
      ]
     },
     "metadata": {
      "needs_background": "light"
     },
     "output_type": "display_data"
    },
    {
     "name": "stdout",
     "output_type": "stream",
     "text": [
      "in: \n",
      "马蹄溢韵家家喜\n",
      "model answer: \n",
      "羊角迎春处处春\n",
      "desired answer: \n",
      "羊角挂春处处新\n",
      "\n",
      "\n"
     ]
    },
    {
     "data": {
      "image/png": "[encoded data removed]",
      "text/plain": [
       "<Figure size 288x432 with 2 Axes>"
      ]
     },
     "metadata": {
      "needs_background": "light"
     },
     "output_type": "display_data"
    },
    {
     "name": "stdout",
     "output_type": "stream",
     "text": [
      "in: \n",
      "当世高踪，诗名霞举冠当世\n",
      "model answer: \n",
      "今朝巨变，物阜年丰乐今朝\n",
      "desired answer: \n",
      "肯堂英裔，文采风流继肯堂\n",
      "\n",
      "\n"
     ]
    },
    {
     "data": {
      "image/png": "[encoded data removed]",
      "text/plain": [
       "<Figure size 288x432 with 2 Axes>"
      ]
     },
     "metadata": {
      "needs_background": "light"
     },
     "output_type": "display_data"
    },
    {
     "name": "stdout",
     "output_type": "stream",
     "text": [
      "in: \n",
      "铜雀争雄，谁曾慷慨登台赋\n",
      "model answer: \n",
      "金龙献瑞，我欲清廉入室风\n",
      "desired answer: \n",
      "鱼山耸翠，君是风流把酒人\n",
      "\n",
      "\n"
     ]
    },
    {
     "data": {
      "image/png": "[encoded data removed]",
      "text/plain": [
       "<Figure size 288x432 with 2 Axes>"
      ]
     },
     "metadata": {
      "needs_background": "light"
     },
     "output_type": "display_data"
    },
    {
     "name": "stdout",
     "output_type": "stream",
     "text": [
      "in: \n",
      "声声爆竹声声喜\n",
      "model answer: \n",
      "阵阵鸣蛩阵阵欢\n",
      "desired answer: \n",
      "阵阵春风阵阵歌\n",
      "\n",
      "\n"
     ]
    },
    {
     "data": {
      "image/png": "[encoded data removed]",
      "text/plain": [
       "<Figure size 288x432 with 2 Axes>"
      ]
     },
     "metadata": {
      "needs_background": "light"
     },
     "output_type": "display_data"
    },
    {
     "name": "stdout",
     "output_type": "stream",
     "text": [
      "in: \n",
      "金谷晓凝花影重\n",
      "model answer: \n",
      "玉溪秋尽雁声寒\n",
      "desired answer: \n",
      "锦堂昼永绣帘垂\n",
      "\n",
      "\n"
     ]
    },
    {
     "data": {
      "image/png": "[encoded data removed]",
      "text/plain": [
       "<Figure size 288x432 with 2 Axes>"
      ]
     },
     "metadata": {
      "needs_background": "light"
     },
     "output_type": "display_data"
    },
    {
     "name": "stdout",
     "output_type": "stream",
     "text": [
      "in: \n",
      "钢刀惊异梦\n",
      "model answer: \n",
      "铁血铸坚贞\n",
      "desired answer: \n",
      "铁链锁同心\n",
      "\n",
      "\n"
     ]
    },
    {
     "data": {
      "image/png": "[encoded data removed]",
      "text/plain": [
       "<Figure size 288x432 with 2 Axes>"
      ]
     },
     "metadata": {
      "needs_background": "light"
     },
     "output_type": "display_data"
    },
    {
     "name": "stdout",
     "output_type": "stream",
     "text": [
      "in: \n",
      "春思几寸凭谁问\n",
      "model answer: \n",
      "秋意一枚甚自知\n",
      "desired answer: \n",
      "烟雨一帘入梦寒\n",
      "\n",
      "\n"
     ]
    },
    {
     "data": {
      "image/png": "[encoded data removed]",
      "text/plain": [
       "<Figure size 288x432 with 2 Axes>"
      ]
     },
     "metadata": {
      "needs_background": "light"
     },
     "output_type": "display_data"
    },
    {
     "name": "stdout",
     "output_type": "stream",
     "text": [
      "in: \n",
      "但凡泊客舟，一江渔火照成古\n",
      "model answer: \n",
      "不改俗心性，几句清词逗是今\n",
      "desired answer: \n",
      "虽已无山寺，半夜钟声响到今\n",
      "\n",
      "\n"
     ]
    },
    {
     "data": {
      "image/png": "[encoded data removed]",
      "text/plain": [
       "<Figure size 288x432 with 2 Axes>"
      ]
     },
     "metadata": {
      "needs_background": "light"
     },
     "output_type": "display_data"
    },
    {
     "name": "stdout",
     "output_type": "stream",
     "text": [
      "in: \n",
      "走马看花牵走狗\n",
      "model answer: \n",
      "飞龙掣电伴飞龙\n",
      "desired answer: \n",
      "偷天换日扯偷心\n",
      "\n",
      "\n"
     ]
    },
    {
     "data": {
      "image/png": "[encoded data removed]",
      "text/plain": [
       "<Figure size 288x432 with 2 Axes>"
      ]
     },
     "metadata": {
      "needs_background": "light"
     },
     "output_type": "display_data"
    },
    {
     "name": "stdout",
     "output_type": "stream",
     "text": [
      "in: \n",
      "千经取译，三藏晓通，学术耸奇峰，法门领袖乾坤仰\n",
      "model answer: \n",
      "万象维新，万方师表，佛光蒙净土，慈母慈悲日月长\n",
      "desired answer: \n",
      "万死不辞，一生专注，精神昭后胤，中国脊梁世代崇\n",
      "\n",
      "\n"
     ]
    },
    {
     "data": {
      "image/png": "[encoded data removed]",
      "text/plain": [
       "<Figure size 288x432 with 2 Axes>"
      ]
     },
     "metadata": {
      "needs_background": "light"
     },
     "output_type": "display_data"
    },
    {
     "name": "stdout",
     "output_type": "stream",
     "text": [
      "in: \n",
      "瑞雪迎春飞两岸\n",
      "model answer: \n",
      "金猴送福纳千家\n",
      "desired answer: \n",
      "金鸡报晓盼三通\n",
      "\n",
      "\n"
     ]
    },
    {
     "data": {
      "image/png": "[encoded data removed]",
      "text/plain": [
       "<Figure size 288x432 with 2 Axes>"
      ]
     },
     "metadata": {
      "needs_background": "light"
     },
     "output_type": "display_data"
    }
   ],
   "source": [
    "evaluateRandomly(char2tone_dict,encoder, attn_decoder,forced_tone=True,forced_word=True,beam_width=1,n=50)"
   ]
  },
  {
   "cell_type": "code",
   "execution_count": 41,
   "metadata": {},
   "outputs": [],
   "source": []
  },
  {
   "cell_type": "code",
   "execution_count": null,
   "metadata": {},
   "outputs": [],
   "source": []
  }
 ],
 "metadata": {
  "kernelspec": {
   "display_name": "Python 3",
   "language": "python",
   "name": "python3"
  },
  "language_info": {
   "codemirror_mode": {
    "name": "ipython",
    "version": 3
   },
   "file_extension": ".py",
   "mimetype": "text/x-python",
   "name": "python",
   "nbconvert_exporter": "python",
   "pygments_lexer": "ipython3",
   "version": "3.7.3"
  }
 },
 "nbformat": 4,
 "nbformat_minor": 2
}
